{
 "cells": [
  {
   "cell_type": "markdown",
   "metadata": {},
   "source": [
    "We fist create a python wrapper to access the `nh` tool included in the ftools. A running [installation of HEASoft](https://heasarc.nasa.gov/lheasoft/) is needed."
   ]
  },
  {
   "cell_type": "code",
   "execution_count": 1,
   "metadata": {},
   "outputs": [],
   "source": [
    "import subprocess\n",
    "\n",
    "def nhf(coords, nhmap='LAB'):\n",
    "    if nhmap == 'DL':\n",
    "        umap = 1        \n",
    "    elif nhmap == 'LAB':\n",
    "        umap = 0        \n",
    "    else:\n",
    "        raise ValueError('Unknown map: {}'.format(nhmap))\n",
    "        \n",
    "    ra = coords.icrs.ra.deg\n",
    "    dec = coords.icrs.dec.deg\n",
    "    equinox = 2000.0\n",
    "\n",
    "    command = 'nh {} {} {} usemap={}'.format(equinox, ra, dec, umap)\n",
    "    log = subprocess.check_output(command, shell=True)\n",
    "\n",
    "    for line in log.splitlines():\n",
    "        if '{} >> Weighted'.format(nhmap) in str(line):\n",
    "            nhval = line.split()[-1]\n",
    "\n",
    "        if 'Try with a distance larger' in str(line):\n",
    "            nhval = -1\n",
    "\n",
    "    return float(nhval)"
   ]
  },
  {
   "cell_type": "markdown",
   "metadata": {},
   "source": [
    "A quick test for our `nhf` function:"
   ]
  },
  {
   "cell_type": "code",
   "execution_count": 2,
   "metadata": {},
   "outputs": [
    {
     "name": "stdout",
     "output_type": "stream",
     "text": [
      "1.63e+20\n"
     ]
    }
   ],
   "source": [
    "from astropy.coordinates import SkyCoord\n",
    "\n",
    "coords = SkyCoord(ra=136.0, dec=44.0, unit='deg')\n",
    "nh_ftools = nhf(coords)\n",
    "print(nh_ftools)"
   ]
  },
  {
   "cell_type": "markdown",
   "metadata": {},
   "source": [
    "We generate *n* random lines-of-sight in the sky and calculate the corresponding Galactic nh (LAB map) using three methods:"
   ]
  },
  {
   "cell_type": "code",
   "execution_count": 3,
   "metadata": {},
   "outputs": [
    {
     "name": "stdout",
     "output_type": "stream",
     "text": [
      "[2.75151990e+21 1.19498698e+21 5.21301240e+20 ... 5.93206689e+20\n",
      " 9.22850439e+20 1.31903347e+20] 1 / cm2\n"
     ]
    },
    {
     "name": "stderr",
     "output_type": "stream",
     "text": [
      "/home/alnoah/miniconda2/envs/astroenvpy3/lib/python3.6/site-packages/astropy/coordinates/angles.py:651: RuntimeWarning: invalid value encountered in less\n",
      "  if np.any(self_angle < wrap_angle_floor) or np.any(self_angle >= wrap_angle):\n",
      "/home/alnoah/miniconda2/envs/astroenvpy3/lib/python3.6/site-packages/astropy/coordinates/angles.py:651: RuntimeWarning: invalid value encountered in greater_equal\n",
      "  if np.any(self_angle < wrap_angle_floor) or np.any(self_angle >= wrap_angle):\n",
      "/home/alnoah/miniconda2/envs/astroenvpy3/lib/python3.6/site-packages/astropy/coordinates/angles.py:534: RuntimeWarning: invalid value encountered in less\n",
      "  if np.any(angles.value < lower) or np.any(angles.value > upper):\n",
      "/home/alnoah/miniconda2/envs/astroenvpy3/lib/python3.6/site-packages/astropy/coordinates/angles.py:534: RuntimeWarning: invalid value encountered in greater\n",
      "  if np.any(angles.value < lower) or np.any(angles.value > upper):\n"
     ]
    },
    {
     "name": "stdout",
     "output_type": "stream",
     "text": [
      "[2.78368788e+21 1.18594741e+21 5.01988135e+20 ... 5.98552796e+20\n",
      " 9.26290119e+20 1.33160073e+20] 1 / cm2\n",
      "[2.78e+21 1.19e+21 5.02e+20 ... 5.99e+20 9.26e+20 1.31e+20]\n"
     ]
    }
   ],
   "source": [
    "import numpy as np\n",
    "from gdpyc import GasMap\n",
    "\n",
    "n = 5000\n",
    "rand_ra_deg = 360*np.random.random(size=n)\n",
    "rand_dec_deg = 180*np.random.random(size=n) - 90.0\n",
    "rand_coords = SkyCoord(ra=rand_ra_deg, dec=rand_dec_deg, unit='deg')\n",
    "\n",
    "# Bilinear interpolation of HEALpix map (~1 deg resolution):\n",
    "nh_gdpyc_nh = GasMap.nh(rand_coords)\n",
    "print(nh_gdpyc_nh)\n",
    "\n",
    "# gdpyc implementation of HEASoft's nh: \n",
    "# fits map of 0.675 deg resolution and distance \n",
    "# weighted average of all pixels within 1 deg circle\n",
    "nh_gdpyc_nhf = GasMap.nhf(rand_coords)       \n",
    "print(nh_gdpyc_nhf)\n",
    "\n",
    "# Values from HEASoft's nh \n",
    "nh_ftools = np.array([nhf(c) for c in rand_coords])\n",
    "print(nh_ftools)\n"
   ]
  },
  {
   "cell_type": "markdown",
   "metadata": {},
   "source": [
    "We can compare the results of the two gdpyc methods with those of ftools:"
   ]
  },
  {
   "cell_type": "code",
   "execution_count": null,
   "metadata": {},
   "outputs": [],
   "source": [
    "import matplotlib.pyplot as plt\n",
    "from mpl_toolkits.axes_grid1.inset_locator import inset_axes\n",
    "\n",
    "fig = plt.figure(figsize=(11,5))\n",
    "\n",
    "# nh_ftools vs nh_gdpyc_nhf\n",
    "ax = plt.subplot(121, aspect='equal')\n",
    "plt.loglog(nh_ftools, nh_gdpyc_nhf, marker='o',\n",
    "           markerfacecolor='CornflowerBlue', markeredgecolor='None',\n",
    "           markersize=5, linestyle='None')\n",
    "plt.loglog(nh_ftools, nh_gdpyc_nhf, marker='o', alpha=0.1,\n",
    "           markerfacecolor='DarkSlateBlue', markeredgecolor='None',\n",
    "           markersize=5, linestyle='None')\n",
    "# This plot is done twice, the latter with transparency, to get\n",
    "# a quick visual impresion of the density of points:\n",
    "# darker colours, higher the density\n",
    "\n",
    "xmin, xmax = ax.get_xlim()\n",
    "ymin, ymax = ax.get_ylim()\n",
    "plt.plot([xmin, xmax], [ymin, ymax], linestyle='--', color='gray')\n",
    "\n",
    "plt.xlim(xmin, xmax)\n",
    "plt.ylim(xmin, xmax)\n",
    "plt.xlabel('nH (ftools) / cm-2')\n",
    "plt.ylabel('nH (gdpyc nhf) / cm-2')\n",
    "\n",
    "# We add an inset plot with the distribution \n",
    "# of nh ratios (gdpyc/ftools values)\n",
    "ratio = nh_gdpyc_nhf.value/nh_ftools\n",
    "ratio_mean = ratio.mean()\n",
    "ratio_std = ratio.std()\n",
    "\n",
    "iax = inset_axes(ax, width=\"35%\", height=\"30%\", loc=4, borderpad=1.5)\n",
    "iax.hist(ratio, bins='auto')\n",
    "iax.tick_params('both', labelsize=8)\n",
    "iax.set_xlim(ratio_mean - 3*ratio_std, ratio_mean + 3*ratio_std)\n",
    "\n",
    "\n",
    "# nh_ftools vs nh_gdpyc_nh\n",
    "ax = plt.subplot(122, aspect='equal')\n",
    "plt.loglog(nh_ftools, nh_gdpyc_nh, marker='o',\n",
    "           markerfacecolor='CornflowerBlue', markeredgecolor='None',\n",
    "           markersize=5, linestyle='None')\n",
    "plt.loglog(nh_ftools, nh_gdpyc_nh, marker='o', alpha=0.1,\n",
    "           markerfacecolor='DarkSlateBlue', markeredgecolor='None',\n",
    "           markersize=5, linestyle='None')\n",
    "\n",
    "xmin, xmax = ax.get_xlim()\n",
    "ymin, ymax = ax.get_ylim()\n",
    "plt.plot([xmin, xmax], [ymin, ymax], linestyle='--', color='gray')\n",
    "\n",
    "plt.xlim(xmin, xmax)\n",
    "plt.ylim(xmin, xmax)\n",
    "plt.xlabel('nH (ftools) / cm-2')\n",
    "plt.ylabel('nH (gdpyc nh) / cm-2')\n",
    "\n",
    "# We add an inset plot with the distribution \n",
    "# of nh ratios (gdpyc/ftools values)\n",
    "ratio = nh_gdpyc_nh.value/nh_ftools\n",
    "ratio_mean = ratio.mean()\n",
    "ratio_std = ratio.std()\n",
    "\n",
    "iax = inset_axes(ax, width=\"35%\", height=\"30%\", loc=4, borderpad=1.5)\n",
    "iax.hist(ratio, bins='auto')\n",
    "iax.tick_params('both', labelsize=8)\n",
    "iax.set_xlim(ratio_mean - 3*ratio_std, ratio_mean + 3*ratio_std)\n",
    "\n",
    "plt.tight_layout()\n",
    "plt.savefig('images/nh_ftools_vs_gdpyc.png')"
   ]
  },
  {
   "cell_type": "markdown",
   "metadata": {},
   "source": [
    "We also want to compare the results in the whole sky. To this end we first create a grid of points:"
   ]
  },
  {
   "cell_type": "code",
   "execution_count": null,
   "metadata": {},
   "outputs": [
    {
     "name": "stdout",
     "output_type": "stream",
     "text": [
      "<SkyCoord (Galactic): (l, b) in deg\n",
      "    [[(180., -90.), (181., -90.), (182., -90.), ..., (178., -90.),\n",
      "      (179., -90.), (180., -90.)],\n",
      "     [(180., -89.), (181., -89.), (182., -89.), ..., (178., -89.),\n",
      "      (179., -89.), (180., -89.)],\n",
      "     [(180., -88.), (181., -88.), (182., -88.), ..., (178., -88.),\n",
      "      (179., -88.), (180., -88.)],\n",
      "     ...,\n",
      "     [(180.,  88.), (181.,  88.), (182.,  88.), ..., (178.,  88.),\n",
      "      (179.,  88.), (180.,  88.)],\n",
      "     [(180.,  89.), (181.,  89.), (182.,  89.), ..., (178.,  89.),\n",
      "      (179.,  89.), (180.,  89.)],\n",
      "     [(180.,  90.), (181.,  90.), (182.,  90.), ..., (178.,  90.),\n",
      "      (179.,  90.), (180.,  90.)]]>\n"
     ]
    }
   ],
   "source": [
    "nlon, nlat = 361, 181   # 361, 181 for one deg distance\n",
    "lon = np.linspace(-np.pi, np.pi, num=nlon)\n",
    "lat = np.linspace(-np.pi/2., np.pi/2., num=nlat)\n",
    "grid_lon, grid_lat = np.meshgrid(lon, lat)\n",
    "coords = SkyCoord(l=grid_lon, b=grid_lat, unit='rad', frame='galactic')\n",
    "print(coords)"
   ]
  },
  {
   "cell_type": "markdown",
   "metadata": {},
   "source": [
    "Now we estimate the corresponding nh values for the grid points:"
   ]
  },
  {
   "cell_type": "code",
   "execution_count": null,
   "metadata": {},
   "outputs": [],
   "source": [
    "nh2_gdpyc_nhf = GasMap.nhf(coords)\n",
    "nh2_gdpyc_nh = GasMap.nh(coords)\n",
    "\n",
    "nrows, ncols = coords.shape\n",
    "nh2_ftools = [[nhf(coords[i,j]) for j in range(ncols)]\n",
    "             for i in range(nrows)]\n",
    "\n",
    "ratio_nhf = nh2_gdpyc_nhf.value/nh2_ftools\n",
    "rmin_nhf = ratio_nhf[ratio_nhf > 0].min()\n",
    "rmax_nhf = ratio_nhf[ratio_nhf > 0].max()\n",
    "print(rmin_nhf, rmax_nhf, np.median(ratio_nhf[ratio_nhf > 0]))\n",
    "\n",
    "ratio_nh = nh2_gdpyc_nh.value/nh2_ftools\n",
    "rmin_nh = ratio_nh[ratio_nh > 0].min()\n",
    "rmax_nh = ratio_nh[ratio_nh > 0].max()\n",
    "print(rmin_nh, rmax_nh, np.median(ratio_nh[ratio_nh > 0]))\n"
   ]
  },
  {
   "cell_type": "markdown",
   "metadata": {},
   "source": [
    "Finally, we plot the ratio of the two methods in an all-sky map, using a mollweide projection:"
   ]
  },
  {
   "cell_type": "code",
   "execution_count": null,
   "metadata": {},
   "outputs": [],
   "source": [
    "import matplotlib.colors as colors\n",
    "\n",
    "# This class allows selecting a particular value as the middle point of the colour scale\n",
    "# From: https://matplotlib.org/gallery/userdemo/colormap_normalizations_custom.html\n",
    "class MidpointNormalize(colors.Normalize):\n",
    "    def __init__(self, vmin=None, vmax=None, midpoint=None, clip=False):\n",
    "        self.midpoint = midpoint\n",
    "        colors.Normalize.__init__(self, vmin, vmax, clip)\n",
    "\n",
    "    def __call__(self, value, clip=None):\n",
    "        # I'm ignoring masked values and all kinds of edge cases to make a\n",
    "        # simple example...\n",
    "        x, y = [self.vmin, self.midpoint, self.vmax], [0, 0.5, 1]\n",
    "        return np.ma.masked_array(np.interp(value, x, y))\n",
    "\n",
    "    \n",
    "fig = plt.figure(figsize=(11,5))\n",
    "ax = fig.add_subplot(121, projection=\"mollweide\")\n",
    "im = ax.pcolormesh(grid_lon, grid_lat, ratio_nhf, cmap=plt.cm.seismic,\n",
    "                   norm=MidpointNormalize(midpoint=1.), \n",
    "                   vmin=rmin_nhf, antialiased=True)\n",
    "ax.set_xticklabels([])\n",
    "ax.set_yticklabels([])\n",
    "fig.colorbar(im, ax=ax, orientation='horizontal', aspect=50)\n",
    "\n",
    "\n",
    "ax = fig.add_subplot(122, projection=\"mollweide\")\n",
    "im = ax.pcolormesh(grid_lon, grid_lat, ratio_nh, cmap=plt.cm.seismic,\n",
    "                   norm=MidpointNormalize(midpoint=1.), \n",
    "                   vmin=rmin_nh, antialiased=True)\n",
    "ax.set_xticklabels([])\n",
    "ax.set_yticklabels([])\n",
    "\n",
    "fig.colorbar(im, ax=ax, orientation='horizontal', aspect=50)\n",
    "\n",
    "plt.tight_layout(w_pad=5)\n",
    "plt.savefig('images/ratios_LAB_lowres.png')"
   ]
  }
 ],
 "metadata": {
  "kernelspec": {
   "display_name": "Python 3",
   "language": "python",
   "name": "python3"
  },
  "language_info": {
   "codemirror_mode": {
    "name": "ipython",
    "version": 3
   },
   "file_extension": ".py",
   "mimetype": "text/x-python",
   "name": "python",
   "nbconvert_exporter": "python",
   "pygments_lexer": "ipython3",
   "version": "3.6.4"
  }
 },
 "nbformat": 4,
 "nbformat_minor": 2
}
